{
 "cells": [
  {
   "cell_type": "markdown",
   "id": "9ae84e0f-957c-4767-ae55-a92744c184ec",
   "metadata": {},
   "source": [
    "# Web Scraping with Python and Selenium - Demo for GIS Day 2021\n",
    "A brief demo of scraping web data using Selenium"
   ]
  },
  {
   "cell_type": "markdown",
   "id": "9bc48bc3-37b8-46d3-ac36-78283fab1a0f",
   "metadata": {},
   "source": [
    "## Why scrape?\n",
    "\n",
    " - You want to analyze the data on a website but there is no way to export it\n",
    " - You want to work with web data inside your program but there's no API to retrieve it automatically\n",
    " - You want to keep regular screenshots and backups of a page and analyze the differences over time"
   ]
  },
  {
   "cell_type": "markdown",
   "id": "2f61c2c2-4039-44d3-9e4a-7d7a33748f64",
   "metadata": {},
   "source": [
    "## Selenium\n",
    "\n",
    " - Low learning curve with capability of complex use cases\n",
    " - Works within a browser window, scraping can be performed on most websites\n",
    "    - Page elements can be clicked and fields can be filled\n",
    " - Free and open source with lots of documentation\n",
    "\n",
    "\n",
    "### Other scraping library options\n",
    "\n",
    "- Python [requests](https://docs.python-requests.org/en/latest/) and [BeautifulSoup  ](https://www.crummy.com/software/BeautifulSoup/)\n",
    "   - For simple scraping of plain HTML pages\n",
    "   - Requests library is widely used for API querying\n",
    "   - BeautifulSoup's advanced HTML object selection can be used with Selenium\n",
    "- [Scrapy](https://scrapy.org)\n",
    "   - For advanced large-scale scraping projects\n",
    "   - Has its own shell for testing scraping approach\n",
    "   - Capable of advanced countermeasures against scraping detection"
   ]
  },
  {
   "cell_type": "markdown",
   "id": "963807e4-dfca-4361-b388-7f0426709df8",
   "metadata": {},
   "source": [
    "# Scraping demo\n",
    "\n",
    "Some minimum requirements:\n",
    "\n",
    " - `selenium` Python library\n",
    " - Selenium webdriver executable\n",
    "    - [Instructions and downloads](https://www.selenium.dev/documentation/getting_started/installing_browser_drivers/)"
   ]
  },
  {
   "cell_type": "markdown",
   "id": "c231993e-3028-4ae9-b38a-37d03ab4d973",
   "metadata": {},
   "source": [
    "## Imports and settings"
   ]
  },
  {
   "cell_type": "code",
   "execution_count": 1,
   "id": "7feb27f1-d405-4ba5-9533-9f04fa47f0d0",
   "metadata": {},
   "outputs": [],
   "source": [
    "from selenium import webdriver\n",
    "from selenium.webdriver.firefox.options import Options\n",
    "from selenium.webdriver.support.wait import WebDriverWait \n",
    "from xvfbwrapper import Xvfb\n",
    "import time\n",
    "import requests\n",
    "import json\n",
    "import base64\n",
    "import os\n",
    "import subprocess\n",
    "import pandas"
   ]
  },
  {
   "cell_type": "code",
   "execution_count": 2,
   "id": "be0e9d51-4dc0-41b2-bb5f-8f9ea88bf41c",
   "metadata": {},
   "outputs": [],
   "source": [
    "pageurl = 'https://www.gjc.org/cgi-bin/listjobs.pl?view=table'\n",
    "headless = False\n",
    "\n",
    "fp = webdriver.FirefoxProfile()\n",
    "options = Options()\n",
    "options.headless = headless"
   ]
  },
  {
   "cell_type": "markdown",
   "id": "8a937a23-081f-45d6-9527-31f43abaf3ed",
   "metadata": {},
   "source": [
    "## Getting started - find page elements to scrape"
   ]
  },
  {
   "cell_type": "markdown",
   "id": "92aae26b-e6c9-44bc-8227-bea261b52da0",
   "metadata": {},
   "source": [
    "### Open the driver"
   ]
  },
  {
   "cell_type": "code",
   "execution_count": 3,
   "id": "22869389-83ec-49f3-81d6-625093c0b00b",
   "metadata": {},
   "outputs": [],
   "source": [
    "driver = webdriver.Firefox(fp,options=options)"
   ]
  },
  {
   "cell_type": "markdown",
   "id": "fb0b4356-49e0-428b-96bf-5fb01d98eff7",
   "metadata": {},
   "source": [
    "### Open the page"
   ]
  },
  {
   "cell_type": "code",
   "execution_count": 4,
   "id": "cbdf73dc-1dbc-4071-b114-567860d7af73",
   "metadata": {},
   "outputs": [],
   "source": [
    "driver.get(pageurl)"
   ]
  },
  {
   "cell_type": "markdown",
   "id": "fde9bdd7-1e14-41dc-8a3f-36efdd3bd13f",
   "metadata": {},
   "source": [
    "### Find the HTML element that contains what we want\n",
    "In the inspector, we find that the html element is the `table` with the XHTML ID attribute `jobs_table`"
   ]
  },
  {
   "cell_type": "code",
   "execution_count": 8,
   "id": "726f4953-68fc-4b4b-9dc3-d654c9deaf04",
   "metadata": {},
   "outputs": [],
   "source": [
    "table = driver.find_element_by_id('jobs_table')\n",
    "table_html = table.get_attribute('outerHTML')"
   ]
  },
  {
   "cell_type": "markdown",
   "id": "f35f283e-9ddb-4fae-bc39-7b510d824252",
   "metadata": {},
   "source": [
    "### Read the table with pandas"
   ]
  },
  {
   "cell_type": "code",
   "execution_count": 89,
   "id": "0d9cd76a-ed97-4aaf-9e15-c708e4467cea",
   "metadata": {},
   "outputs": [
    {
     "data": {
      "text/html": [
       "<div>\n",
       "<style scoped>\n",
       "    .dataframe tbody tr th:only-of-type {\n",
       "        vertical-align: middle;\n",
       "    }\n",
       "\n",
       "    .dataframe tbody tr th {\n",
       "        vertical-align: top;\n",
       "    }\n",
       "\n",
       "    .dataframe thead th {\n",
       "        text-align: right;\n",
       "    }\n",
       "</style>\n",
       "<table border=\"1\" class=\"dataframe\">\n",
       "  <thead>\n",
       "    <tr style=\"text-align: right;\">\n",
       "      <th></th>\n",
       "      <th>Date</th>\n",
       "      <th>Title</th>\n",
       "      <th>Organization</th>\n",
       "      <th>Location</th>\n",
       "    </tr>\n",
       "  </thead>\n",
       "  <tbody>\n",
       "    <tr>\n",
       "      <th>0</th>\n",
       "      <td>2021-09-20</td>\n",
       "      <td>GIS Consultant</td>\n",
       "      <td>G2 Integrated Solutions</td>\n",
       "      <td>San Ramon, Ca</td>\n",
       "    </tr>\n",
       "    <tr>\n",
       "      <th>1</th>\n",
       "      <td>2021-09-20</td>\n",
       "      <td>Party Chief - Survey</td>\n",
       "      <td>GISinc, A Continental Mapping Company</td>\n",
       "      <td>Sun Prairie, WI or work from home considered</td>\n",
       "    </tr>\n",
       "    <tr>\n",
       "      <th>2</th>\n",
       "      <td>2021-09-17</td>\n",
       "      <td>GIS Technician 1</td>\n",
       "      <td>Planet Forward</td>\n",
       "      <td>Plainfield, IN</td>\n",
       "    </tr>\n",
       "    <tr>\n",
       "      <th>3</th>\n",
       "      <td>2021-09-17</td>\n",
       "      <td>GIS Technician – Part-Time</td>\n",
       "      <td>Theorem Geo</td>\n",
       "      <td>Charlotte, NC</td>\n",
       "    </tr>\n",
       "    <tr>\n",
       "      <th>4</th>\n",
       "      <td>2021-09-17</td>\n",
       "      <td>GISc Director</td>\n",
       "      <td>Trout Unlimited</td>\n",
       "      <td>Boise, ID USA or remote</td>\n",
       "    </tr>\n",
       "    <tr>\n",
       "      <th>5</th>\n",
       "      <td>2021-09-17</td>\n",
       "      <td>Geospatial Developer</td>\n",
       "      <td>Weyerhaeuser</td>\n",
       "      <td>Seattle, WA; Springfield, OR; Columbia Falls, ...</td>\n",
       "    </tr>\n",
       "    <tr>\n",
       "      <th>6</th>\n",
       "      <td>2021-09-17</td>\n",
       "      <td>GIS Tools Team Lead</td>\n",
       "      <td>Weyerhaeuser</td>\n",
       "      <td>Seattle, WA; Springfield, OR; Columbia Falls, ...</td>\n",
       "    </tr>\n",
       "    <tr>\n",
       "      <th>7</th>\n",
       "      <td>2021-09-17</td>\n",
       "      <td>GIS Intern (Paid - 2 openings)</td>\n",
       "      <td>Ducks Unlimited, Inc.</td>\n",
       "      <td>Rancho Cordova (Sacramento area), CA USA</td>\n",
       "    </tr>\n",
       "    <tr>\n",
       "      <th>8</th>\n",
       "      <td>2021-09-16</td>\n",
       "      <td>Sr. GIS Data Architect / Project Manager</td>\n",
       "      <td>Innovate!, Inc.</td>\n",
       "      <td>Salt Lake City Utah</td>\n",
       "    </tr>\n",
       "    <tr>\n",
       "      <th>9</th>\n",
       "      <td>2021-09-16</td>\n",
       "      <td>GIS Developer</td>\n",
       "      <td>Innovate!, Inc.</td>\n",
       "      <td>Remote</td>\n",
       "    </tr>\n",
       "  </tbody>\n",
       "</table>\n",
       "</div>"
      ],
      "text/plain": [
       "         Date                                     Title  \\\n",
       "0  2021-09-20                            GIS Consultant   \n",
       "1  2021-09-20                      Party Chief - Survey   \n",
       "2  2021-09-17                          GIS Technician 1   \n",
       "3  2021-09-17                GIS Technician – Part-Time   \n",
       "4  2021-09-17                             GISc Director   \n",
       "5  2021-09-17                      Geospatial Developer   \n",
       "6  2021-09-17                       GIS Tools Team Lead   \n",
       "7  2021-09-17            GIS Intern (Paid - 2 openings)   \n",
       "8  2021-09-16  Sr. GIS Data Architect / Project Manager   \n",
       "9  2021-09-16                             GIS Developer   \n",
       "\n",
       "                            Organization  \\\n",
       "0                G2 Integrated Solutions   \n",
       "1  GISinc, A Continental Mapping Company   \n",
       "2                         Planet Forward   \n",
       "3                            Theorem Geo   \n",
       "4                        Trout Unlimited   \n",
       "5                           Weyerhaeuser   \n",
       "6                           Weyerhaeuser   \n",
       "7                  Ducks Unlimited, Inc.   \n",
       "8                        Innovate!, Inc.   \n",
       "9                        Innovate!, Inc.   \n",
       "\n",
       "                                            Location  \n",
       "0                                      San Ramon, Ca  \n",
       "1       Sun Prairie, WI or work from home considered  \n",
       "2                                     Plainfield, IN  \n",
       "3                                      Charlotte, NC  \n",
       "4                            Boise, ID USA or remote  \n",
       "5  Seattle, WA; Springfield, OR; Columbia Falls, ...  \n",
       "6  Seattle, WA; Springfield, OR; Columbia Falls, ...  \n",
       "7           Rancho Cordova (Sacramento area), CA USA  \n",
       "8                                Salt Lake City Utah  \n",
       "9                                             Remote  "
      ]
     },
     "execution_count": 89,
     "metadata": {},
     "output_type": "execute_result"
    }
   ],
   "source": [
    "df = pandas.read_html(table_html)\n",
    "# read_html creates a list of DFs, we need the first one\n",
    "df = df[0]\n",
    "\n",
    "df"
   ]
  },
  {
   "cell_type": "markdown",
   "id": "2b637136-9f53-4f7e-b797-62f7ab4883d1",
   "metadata": {},
   "source": [
    "## Let's scrape everything"
   ]
  },
  {
   "cell_type": "code",
   "execution_count": 55,
   "id": "d926c4a5-0ec7-4837-8e86-1a2ee9669343",
   "metadata": {
    "tags": []
   },
   "outputs": [],
   "source": [
    "# First, close out of the driver we opened earlier\n",
    "driver.close()"
   ]
  },
  {
   "cell_type": "code",
   "execution_count": 80,
   "id": "a67648dd-ac61-46a4-ac96-2505ae313be6",
   "metadata": {},
   "outputs": [],
   "source": [
    "# Reopen a new session\n",
    "driver = webdriver.Firefox(fp,options=options)\n",
    "driver.get(pageurl)"
   ]
  },
  {
   "cell_type": "code",
   "execution_count": 81,
   "id": "4bcf2766-7534-45cd-846f-cb9e14eb8f26",
   "metadata": {},
   "outputs": [],
   "source": [
    "# And create a new Pandas dataframe that everything will go into\n",
    "jobs_df = pandas.DataFrame(columns=['Date', 'Title', 'Organization', 'Location'])"
   ]
  },
  {
   "cell_type": "markdown",
   "id": "9081df9d-20ec-499c-84d1-0a8f549aad33",
   "metadata": {},
   "source": [
    "### Get page numbers\n",
    "We need to know when to stop hitting the \"Next\" button."
   ]
  },
  {
   "cell_type": "code",
   "execution_count": 58,
   "id": "f00b2972-6b12-428d-be51-60b18e43ab7a",
   "metadata": {},
   "outputs": [
    {
     "data": {
      "text/plain": [
       "['Previous', '1', '2', '3', '4', '5', '12', 'Next']"
      ]
     },
     "execution_count": 58,
     "metadata": {},
     "output_type": "execute_result"
    }
   ],
   "source": [
    "pages_ribbon = [a.text for a in driver.find_elements_by_class_name('paginate_button')]\n",
    "pages_ribbon"
   ]
  },
  {
   "cell_type": "code",
   "execution_count": 59,
   "id": "1106fcb1-9e3c-493d-b195-6307c9838cad",
   "metadata": {},
   "outputs": [
    {
     "data": {
      "text/plain": [
       "12"
      ]
     },
     "execution_count": 59,
     "metadata": {},
     "output_type": "execute_result"
    }
   ],
   "source": [
    "total_pages = int(pages_ribbon[-2])\n",
    "total_pages"
   ]
  },
  {
   "cell_type": "markdown",
   "id": "b40e7869-a452-4973-98f0-d6555790b79c",
   "metadata": {},
   "source": [
    "### Loop through the pages and save them to the dataframe"
   ]
  },
  {
   "cell_type": "code",
   "execution_count": 82,
   "id": "8be0ec37-f7fb-4c8d-8b30-67236fd1d32d",
   "metadata": {},
   "outputs": [
    {
     "name": "stdout",
     "output_type": "stream",
     "text": [
      "done!\n"
     ]
    }
   ],
   "source": [
    "for i in range(total_pages):\n",
    "    if i+1 != total_pages:\n",
    "        \n",
    "        table_html = driver.find_element_by_id('jobs_table').get_attribute('outerHTML')\n",
    "        page_table = pandas.read_html(table_html)[0]\n",
    "        jobs_df = pandas.concat([jobs_df, page_table]) # pandas.concat expects an interable\n",
    "        \n",
    "        next_button = driver.find_element_by_id('jobs_table_next')\n",
    "        next_button.click()\n",
    "        \n",
    "        # Delay a little bit so we can see it happen\n",
    "        time.sleep(.5)\n",
    "        \n",
    "    else:\n",
    "        print('Done!')"
   ]
  },
  {
   "cell_type": "markdown",
   "id": "af39a508-1649-4d49-a530-f7edb2ad8646",
   "metadata": {},
   "source": [
    "## Let's take a look at our work"
   ]
  },
  {
   "cell_type": "code",
   "execution_count": 90,
   "id": "a3a9ca60-d10e-458f-9eaa-a505f7cc4b2c",
   "metadata": {},
   "outputs": [
    {
     "data": {
      "text/html": [
       "<div>\n",
       "<style scoped>\n",
       "    .dataframe tbody tr th:only-of-type {\n",
       "        vertical-align: middle;\n",
       "    }\n",
       "\n",
       "    .dataframe tbody tr th {\n",
       "        vertical-align: top;\n",
       "    }\n",
       "\n",
       "    .dataframe thead th {\n",
       "        text-align: right;\n",
       "    }\n",
       "</style>\n",
       "<table border=\"1\" class=\"dataframe\">\n",
       "  <thead>\n",
       "    <tr style=\"text-align: right;\">\n",
       "      <th></th>\n",
       "      <th>Date</th>\n",
       "      <th>Title</th>\n",
       "      <th>Organization</th>\n",
       "      <th>Location</th>\n",
       "    </tr>\n",
       "  </thead>\n",
       "  <tbody>\n",
       "    <tr>\n",
       "      <th>0</th>\n",
       "      <td>2021-11-10</td>\n",
       "      <td>Geospatial Data Manager</td>\n",
       "      <td>NatureServe</td>\n",
       "      <td>Arlington, VA</td>\n",
       "    </tr>\n",
       "    <tr>\n",
       "      <th>1</th>\n",
       "      <td>2021-11-09</td>\n",
       "      <td>GIS Technician</td>\n",
       "      <td>Snohomish County Public Works-ES</td>\n",
       "      <td>Everett, WA</td>\n",
       "    </tr>\n",
       "    <tr>\n",
       "      <th>2</th>\n",
       "      <td>2021-11-09</td>\n",
       "      <td>GIS Technician I</td>\n",
       "      <td>Sedgwick County</td>\n",
       "      <td>Wichita, KS</td>\n",
       "    </tr>\n",
       "    <tr>\n",
       "      <th>3</th>\n",
       "      <td>2021-11-08</td>\n",
       "      <td>GIS Analyst</td>\n",
       "      <td>CEMML, Colorado State University</td>\n",
       "      <td>Fort Wainwright, Alaska</td>\n",
       "    </tr>\n",
       "    <tr>\n",
       "      <th>4</th>\n",
       "      <td>2021-11-08</td>\n",
       "      <td>Geospatial Data Specialist I or II (Sewer)</td>\n",
       "      <td>City of Cedar Rapids</td>\n",
       "      <td>Cedar Rapids, IA</td>\n",
       "    </tr>\n",
       "    <tr>\n",
       "      <th>...</th>\n",
       "      <td>...</td>\n",
       "      <td>...</td>\n",
       "      <td>...</td>\n",
       "      <td>...</td>\n",
       "    </tr>\n",
       "    <tr>\n",
       "      <th>5</th>\n",
       "      <td>2021-09-17</td>\n",
       "      <td>Geospatial Developer</td>\n",
       "      <td>Weyerhaeuser</td>\n",
       "      <td>Seattle, WA; Springfield, OR; Columbia Falls, ...</td>\n",
       "    </tr>\n",
       "    <tr>\n",
       "      <th>6</th>\n",
       "      <td>2021-09-17</td>\n",
       "      <td>GIS Tools Team Lead</td>\n",
       "      <td>Weyerhaeuser</td>\n",
       "      <td>Seattle, WA; Springfield, OR; Columbia Falls, ...</td>\n",
       "    </tr>\n",
       "    <tr>\n",
       "      <th>7</th>\n",
       "      <td>2021-09-17</td>\n",
       "      <td>GIS Intern (Paid - 2 openings)</td>\n",
       "      <td>Ducks Unlimited, Inc.</td>\n",
       "      <td>Rancho Cordova (Sacramento area), CA USA</td>\n",
       "    </tr>\n",
       "    <tr>\n",
       "      <th>8</th>\n",
       "      <td>2021-09-16</td>\n",
       "      <td>Sr. GIS Data Architect / Project Manager</td>\n",
       "      <td>Innovate!, Inc.</td>\n",
       "      <td>Salt Lake City Utah</td>\n",
       "    </tr>\n",
       "    <tr>\n",
       "      <th>9</th>\n",
       "      <td>2021-09-16</td>\n",
       "      <td>GIS Developer</td>\n",
       "      <td>Innovate!, Inc.</td>\n",
       "      <td>Remote</td>\n",
       "    </tr>\n",
       "  </tbody>\n",
       "</table>\n",
       "<p>110 rows × 4 columns</p>\n",
       "</div>"
      ],
      "text/plain": [
       "          Date                                       Title  \\\n",
       "0   2021-11-10                     Geospatial Data Manager   \n",
       "1   2021-11-09                              GIS Technician   \n",
       "2   2021-11-09                            GIS Technician I   \n",
       "3   2021-11-08                                 GIS Analyst   \n",
       "4   2021-11-08  Geospatial Data Specialist I or II (Sewer)   \n",
       "..         ...                                         ...   \n",
       "5   2021-09-17                        Geospatial Developer   \n",
       "6   2021-09-17                         GIS Tools Team Lead   \n",
       "7   2021-09-17              GIS Intern (Paid - 2 openings)   \n",
       "8   2021-09-16    Sr. GIS Data Architect / Project Manager   \n",
       "9   2021-09-16                               GIS Developer   \n",
       "\n",
       "                        Organization  \\\n",
       "0                        NatureServe   \n",
       "1   Snohomish County Public Works-ES   \n",
       "2                    Sedgwick County   \n",
       "3   CEMML, Colorado State University   \n",
       "4               City of Cedar Rapids   \n",
       "..                               ...   \n",
       "5                       Weyerhaeuser   \n",
       "6                       Weyerhaeuser   \n",
       "7              Ducks Unlimited, Inc.   \n",
       "8                    Innovate!, Inc.   \n",
       "9                    Innovate!, Inc.   \n",
       "\n",
       "                                             Location  \n",
       "0                                       Arlington, VA  \n",
       "1                                         Everett, WA  \n",
       "2                                         Wichita, KS  \n",
       "3                             Fort Wainwright, Alaska  \n",
       "4                                    Cedar Rapids, IA  \n",
       "..                                                ...  \n",
       "5   Seattle, WA; Springfield, OR; Columbia Falls, ...  \n",
       "6   Seattle, WA; Springfield, OR; Columbia Falls, ...  \n",
       "7            Rancho Cordova (Sacramento area), CA USA  \n",
       "8                                 Salt Lake City Utah  \n",
       "9                                              Remote  \n",
       "\n",
       "[110 rows x 4 columns]"
      ]
     },
     "execution_count": 90,
     "metadata": {},
     "output_type": "execute_result"
    }
   ],
   "source": [
    "jobs_df"
   ]
  },
  {
   "cell_type": "markdown",
   "id": "0c71c2ad-e20d-4f61-bc65-be99668d6505",
   "metadata": {},
   "source": [
    "## Save the data to a CSV"
   ]
  },
  {
   "cell_type": "code",
   "execution_count": 87,
   "id": "7c6f68c4-99c5-40a4-9710-341d96ff95b7",
   "metadata": {},
   "outputs": [],
   "source": [
    "jobs_df.to_csv('out.csv')"
   ]
  },
  {
   "cell_type": "markdown",
   "id": "e1d56de6-12ba-4122-bdad-03e49f4a9f66",
   "metadata": {},
   "source": [
    "# Thanks for participating!\n",
    "\n",
    "Get the repo here: https://github.com/karltach/GISDayScrapingDemo"
   ]
  }
 ],
 "metadata": {
  "kernelspec": {
   "display_name": "Python 3 (ipykernel)",
   "language": "python",
   "name": "python3"
  },
  "language_info": {
   "codemirror_mode": {
    "name": "ipython",
    "version": 3
   },
   "file_extension": ".py",
   "mimetype": "text/x-python",
   "name": "python",
   "nbconvert_exporter": "python",
   "pygments_lexer": "ipython3",
   "version": "3.9.5"
  }
 },
 "nbformat": 4,
 "nbformat_minor": 5
}
