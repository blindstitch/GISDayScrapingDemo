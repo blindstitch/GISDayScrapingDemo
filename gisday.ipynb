{
 "cells": [
  {
   "cell_type": "markdown",
   "id": "9ae84e0f-957c-4767-ae55-a92744c184ec",
   "metadata": {},
   "source": [
    "# Web Scraping demo - for GIS Day 2021\n",
    "A (mostly) brief demo of scraping web data for fun and profit"
   ]
  },
  {
   "cell_type": "markdown",
   "id": "2f61c2c2-4039-44d3-9e4a-7d7a33748f64",
   "metadata": {},
   "source": [
    "## To do\n",
    " - upgrade jupyter lab to 3.2.3 for celltags (do in venv)"
   ]
  },
  {
   "cell_type": "markdown",
   "id": "9bc48bc3-37b8-46d3-ac36-78283fab1a0f",
   "metadata": {},
   "source": [
    "## Why scrape?"
   ]
  },
  {
   "cell_type": "markdown",
   "id": "963807e4-dfca-4361-b388-7f0426709df8",
   "metadata": {},
   "source": [
    "# Scraping demo"
   ]
  },
  {
   "cell_type": "markdown",
   "id": "8a937a23-081f-45d6-9527-31f43abaf3ed",
   "metadata": {},
   "source": [
    "### Prerequisite: install a webdriver exension"
   ]
  },
  {
   "cell_type": "markdown",
   "id": "c231993e-3028-4ae9-b38a-37d03ab4d973",
   "metadata": {},
   "source": [
    "### Imports"
   ]
  },
  {
   "cell_type": "code",
   "execution_count": 1,
   "id": "7feb27f1-d405-4ba5-9533-9f04fa47f0d0",
   "metadata": {},
   "outputs": [],
   "source": [
    "from selenium import webdriver\n",
    "from selenium.webdriver.firefox.options import Options\n",
    "from selenium.webdriver.support.wait import WebDriverWait \n",
    "from xvfbwrapper import Xvfb\n",
    "import time\n",
    "import requests\n",
    "import json\n",
    "import base64\n",
    "import os\n",
    "import subprocess\n",
    "import pandas"
   ]
  },
  {
   "cell_type": "markdown",
   "id": "af412183-f775-4fe7-b28f-d9594112ce58",
   "metadata": {},
   "source": [
    "### Settings"
   ]
  },
  {
   "cell_type": "code",
   "execution_count": 2,
   "id": "be0e9d51-4dc0-41b2-bb5f-8f9ea88bf41c",
   "metadata": {},
   "outputs": [],
   "source": [
    "pageurl = 'https://www.gjc.org/cgi-bin/listjobs.pl?view=table'\n",
    "headless = False\n",
    "\n",
    "fp = webdriver.FirefoxProfile()\n",
    "options = Options()\n",
    "options.headless = headless"
   ]
  },
  {
   "cell_type": "markdown",
   "id": "92aae26b-e6c9-44bc-8227-bea261b52da0",
   "metadata": {},
   "source": [
    "### Open the driver"
   ]
  },
  {
   "cell_type": "code",
   "execution_count": 3,
   "id": "22869389-83ec-49f3-81d6-625093c0b00b",
   "metadata": {},
   "outputs": [],
   "source": [
    "driver = webdriver.Firefox(fp,options=options)"
   ]
  },
  {
   "cell_type": "markdown",
   "id": "fb0b4356-49e0-428b-96bf-5fb01d98eff7",
   "metadata": {},
   "source": [
    "### Open the page"
   ]
  },
  {
   "cell_type": "code",
   "execution_count": 4,
   "id": "cbdf73dc-1dbc-4071-b114-567860d7af73",
   "metadata": {},
   "outputs": [],
   "source": [
    "driver.get(pageurl)"
   ]
  },
  {
   "cell_type": "markdown",
   "id": "fde9bdd7-1e14-41dc-8a3f-36efdd3bd13f",
   "metadata": {},
   "source": [
    "### Find the HTML element that contains what we want\n",
    "In the inspector, we find that the html element is the `table` with the XHTML ID attribute `jobs_table`"
   ]
  },
  {
   "cell_type": "code",
   "execution_count": 8,
   "id": "726f4953-68fc-4b4b-9dc3-d654c9deaf04",
   "metadata": {},
   "outputs": [],
   "source": [
    "table = driver.find_element_by_id('jobs_table')\n",
    "table_html = table.get_attribute('outerHTML')"
   ]
  },
  {
   "cell_type": "markdown",
   "id": "f35f283e-9ddb-4fae-bc39-7b510d824252",
   "metadata": {},
   "source": [
    "### Read the table with pandas"
   ]
  },
  {
   "cell_type": "code",
   "execution_count": 19,
   "id": "0d9cd76a-ed97-4aaf-9e15-c708e4467cea",
   "metadata": {},
   "outputs": [],
   "source": [
    "df = pandas.read_html(table_html)\n",
    "# read_html creates a list of DFs, we need the first one\n",
    "df = df[0]"
   ]
  },
  {
   "cell_type": "markdown",
   "id": "2b637136-9f53-4f7e-b797-62f7ab4883d1",
   "metadata": {},
   "source": [
    "# Let's turn this into a loop"
   ]
  },
  {
   "cell_type": "code",
   "execution_count": 55,
   "id": "d926c4a5-0ec7-4837-8e86-1a2ee9669343",
   "metadata": {
    "tags": []
   },
   "outputs": [],
   "source": [
    "# First, close out of the driver we opened earlier\n",
    "driver.close()"
   ]
  },
  {
   "cell_type": "code",
   "execution_count": 81,
   "id": "4bcf2766-7534-45cd-846f-cb9e14eb8f26",
   "metadata": {},
   "outputs": [],
   "source": [
    "# And create a new Pandas dataframe that everything will go into\n",
    "jobs_df = pandas.DataFrame(columns=['Date', 'Title', 'Organization', 'Location'])"
   ]
  },
  {
   "cell_type": "code",
   "execution_count": 80,
   "id": "a67648dd-ac61-46a4-ac96-2505ae313be6",
   "metadata": {},
   "outputs": [],
   "source": [
    "driver = webdriver.Firefox(fp,options=options)\n",
    "driver.get(pageurl)"
   ]
  },
  {
   "cell_type": "markdown",
   "id": "9081df9d-20ec-499c-84d1-0a8f549aad33",
   "metadata": {},
   "source": [
    "## What are our page numbers?\n",
    "We need to know when to stop hitting the \"Next\" button..."
   ]
  },
  {
   "cell_type": "code",
   "execution_count": 58,
   "id": "f00b2972-6b12-428d-be51-60b18e43ab7a",
   "metadata": {},
   "outputs": [
    {
     "data": {
      "text/plain": [
       "['Previous', '1', '2', '3', '4', '5', '12', 'Next']"
      ]
     },
     "execution_count": 58,
     "metadata": {},
     "output_type": "execute_result"
    }
   ],
   "source": [
    "pages_ribbon = [a.text for a in driver.find_elements_by_class_name('paginate_button')]\n",
    "pages_ribbon"
   ]
  },
  {
   "cell_type": "code",
   "execution_count": 59,
   "id": "1106fcb1-9e3c-493d-b195-6307c9838cad",
   "metadata": {},
   "outputs": [
    {
     "data": {
      "text/plain": [
       "12"
      ]
     },
     "execution_count": 59,
     "metadata": {},
     "output_type": "execute_result"
    }
   ],
   "source": [
    "total_pages = int(pages_ribbon[-2])\n",
    "total_pages"
   ]
  },
  {
   "cell_type": "markdown",
   "id": "b40e7869-a452-4973-98f0-d6555790b79c",
   "metadata": {},
   "source": [
    "### Loop through the pages and save them to the dataframe"
   ]
  },
  {
   "cell_type": "code",
   "execution_count": 82,
   "id": "8be0ec37-f7fb-4c8d-8b30-67236fd1d32d",
   "metadata": {},
   "outputs": [
    {
     "name": "stdout",
     "output_type": "stream",
     "text": [
      "done!\n"
     ]
    }
   ],
   "source": [
    "for i in range(total_pages):\n",
    "    if i+1 != total_pages:\n",
    "        \n",
    "        table_html = driver.find_element_by_id('jobs_table').get_attribute('outerHTML')\n",
    "        page_table = pandas.read_html(table_html)[0]\n",
    "        jobs_df = pandas.concat([jobs_df, page_table]) # pandas.concat expects an interable\n",
    "        \n",
    "        next_button = driver.find_element_by_id('jobs_table_next')\n",
    "        next_button.click()\n",
    "        \n",
    "        # Delay a little bit so we can see it happen\n",
    "        time.sleep(.5)\n",
    "        \n",
    "    else:\n",
    "        print('done!')       "
   ]
  },
  {
   "cell_type": "markdown",
   "id": "0c71c2ad-e20d-4f61-bc65-be99668d6505",
   "metadata": {},
   "source": [
    "### Save the data to a CSV"
   ]
  },
  {
   "cell_type": "code",
   "execution_count": 87,
   "id": "7c6f68c4-99c5-40a4-9710-341d96ff95b7",
   "metadata": {},
   "outputs": [],
   "source": [
    "jobs_df.to_csv('out.csv')"
   ]
  }
 ],
 "metadata": {
  "kernelspec": {
   "display_name": "Python 3 (ipykernel)",
   "language": "python",
   "name": "python3"
  },
  "language_info": {
   "codemirror_mode": {
    "name": "ipython",
    "version": 3
   },
   "file_extension": ".py",
   "mimetype": "text/x-python",
   "name": "python",
   "nbconvert_exporter": "python",
   "pygments_lexer": "ipython3",
   "version": "3.9.5"
  }
 },
 "nbformat": 4,
 "nbformat_minor": 5
}
